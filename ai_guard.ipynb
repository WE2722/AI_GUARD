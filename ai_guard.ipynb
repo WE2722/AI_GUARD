{
 "cells": [
  {
   "cell_type": "code",
   "execution_count": null,
   "id": "3eebf77f",
   "metadata": {},
   "outputs": [],
   "source": [
    "# AI_GUARD/ai_guard.py\n",
    "def greet(name: str) -> str:\n",
    "    \"\"\"\n",
    "    Greets the given name.\n",
    "\n",
    "    Args:\n",
    "        name (str): The name to greet.\n",
    "\n",
    "    Returns:\n",
    "        str: A greeting message.\n",
    "    \"\"\"\n",
    "    return f\"Hello, {name} from AI_GUARD!\""
   ]
  },
  {
   "cell_type": "code",
   "execution_count": null,
   "id": "da9b07b7",
   "metadata": {},
   "outputs": [],
   "source": [
    "input_name = input(\"Enter your name: \")\n",
    "if __name__ == \"__main__\":\n",
    "    print(greet(input_name))"
   ]
  },
  {
   "cell_type": "code",
   "execution_count": null,
   "id": "937bfecc",
   "metadata": {},
   "outputs": [],
   "source": []
  }
 ],
 "metadata": {
  "kernelspec": {
   "display_name": "cv_ai",
   "language": "python",
   "name": "python3"
  },
  "language_info": {
   "codemirror_mode": {
    "name": "ipython",
    "version": 3
   },
   "file_extension": ".py",
   "mimetype": "text/x-python",
   "name": "python",
   "nbconvert_exporter": "python",
   "pygments_lexer": "ipython3",
   "version": "3.13.3"
  }
 },
 "nbformat": 4,
 "nbformat_minor": 5
}
